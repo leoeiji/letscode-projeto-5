{
 "cells": [
  {
   "cell_type": "code",
   "execution_count": 1,
   "metadata": {},
   "outputs": [],
   "source": [
    "import requests"
   ]
  },
  {
   "cell_type": "code",
   "execution_count": 5,
   "metadata": {},
   "outputs": [
    {
     "data": {
      "text/plain": [
       "[{'companhia_id': 1000, 'nome_cia': 'Teste Airlines'},\n",
       " {'companhia_id': 1001, 'nome_cia': 'Leo Linhas Aéreas'},\n",
       " {'companhia_id': 1002, 'nome_cia': 'You Airlines'},\n",
       " {'companhia_id': 1003, 'nome_cia': 'Carol Linhas Aéreas'},\n",
       " {'companhia_id': 1004, 'nome_cia': 'Meca Airlines'},\n",
       " {'companhia_id': 1005, 'nome_cia': 'Incrível Airlines'},\n",
       " {'companhia_id': 1006, 'nome_cia': 'TESTE'}]"
      ]
     },
     "execution_count": 5,
     "metadata": {},
     "output_type": "execute_result"
    }
   ],
   "source": [
    "requests.get('http://localhost:5000/companhia_aerea').json()"
   ]
  },
  {
   "cell_type": "code",
   "execution_count": null,
   "metadata": {},
   "outputs": [],
   "source": []
  },
  {
   "cell_type": "code",
   "execution_count": 19,
   "metadata": {},
   "outputs": [
    {
     "data": {
      "text/plain": [
       "'intelligent_shtern'"
      ]
     },
     "execution_count": 19,
     "metadata": {},
     "output_type": "execute_result"
    }
   ],
   "source": [
    "from names_generator import generate_name\n",
    "\n",
    "for i in range(100):\n",
    "    requests.post('http://localhost:5000/companhia_aerea', json={'nome_cia': generate_name()})"
   ]
  }
 ],
 "metadata": {
  "kernelspec": {
   "display_name": "Python 3.9.13 64-bit (windows store)",
   "language": "python",
   "name": "python3"
  },
  "language_info": {
   "codemirror_mode": {
    "name": "ipython",
    "version": 3
   },
   "file_extension": ".py",
   "mimetype": "text/x-python",
   "name": "python",
   "nbconvert_exporter": "python",
   "pygments_lexer": "ipython3",
   "version": "3.9.13"
  },
  "orig_nbformat": 4,
  "vscode": {
   "interpreter": {
    "hash": "dd6fa4d6f0a1a7aa9bdc072883c48976994fbf14d27bb5862e9df6e6cd5aadee"
   }
  }
 },
 "nbformat": 4,
 "nbformat_minor": 2
}
